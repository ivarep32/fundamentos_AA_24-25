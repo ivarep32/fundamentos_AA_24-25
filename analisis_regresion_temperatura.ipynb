{
 "cells": [
  {
   "metadata": {},
   "cell_type": "markdown",
   "source": [
    "# Análisis de Regresión Múltiple para Predicción de Temperatura Máxima\n",
    "\n",
    "Este notebook analiza un modelo de regresión múltiple para predecir la temperatura máxima futura (FTMax) usando variables meteorológicas.\n",
    "\n",
    "El modelo propuesto es:\n",
    "Y = β₀ + β₁X₁ + β₂X₂ + β₃X₃ + β₄X₄ + β₅X₅ + β₆X₆ + ε\n",
    "\n",
    "Donde:\n",
    "- Y = FTMax (Temperatura máxima futura)\n",
    "- X₁ = LWS\n",
    "- X₂ = LRadSol\n",
    "- X₃ = LLH\n",
    "- X₄ = LTMax\n",
    "- X₅ = LRHmax\n",
    "- X₆ = LTmin"
   ],
   "id": "92e12bd4d2ae941a"
  },
  {
   "metadata": {},
   "cell_type": "code",
   "outputs": [],
   "execution_count": null,
   "source": [
    "# Importar librerías necesarias\n",
    "!pip install statsmodels\n",
    "import pandas as pd\n",
    "import numpy as np\n",
    "import matplotlib.pyplot as plt\n",
    "import seaborn as sns\n",
    "from statsmodels.formula.api import ols\n",
    "import statsmodels.api as sm\n",
    "\n",
    "# Generar datos sintéticos\n",
    "np.random.seed(5190)\n",
    "n = 300\n",
    "\n",
    "data = pd.DataFrame({\n",
    "    'LWS': np.random.normal(5, 2, n),\n",
    "    'LRadSol': np.random.normal(200, 50, n),\n",
    "    'LLH': np.random.normal(70, 15, n),\n",
    "    'LTMax': np.random.normal(25, 5, n),\n",
    "    'LRHmax': np.random.normal(80, 10, n),\n",
    "    'LTmin': np.random.normal(15, 4, n)\n",
    "})\n",
    "\n",
    "# Generar variable dependiente con ruido\n",
    "data['FTMax'] = (2 + 0.3*data['LWS'] + 0.02*data['LRadSol'] +\n",
    "                 0.1*data['LLH'] + 0.8*data['LTMax'] +\n",
    "                 -0.1*data['LRHmax'] + 0.2*data['LTmin'] +\n",
    "                 np.random.normal(0, 2, n))"
   ],
   "id": "c8e42b4d8d7bd61c"
  },
  {
   "metadata": {},
   "cell_type": "code",
   "outputs": [],
   "execution_count": null,
   "source": "",
   "id": "f6a47d23de9154c8"
  }
 ],
 "metadata": {
  "kernelspec": {
   "display_name": "Python 3",
   "language": "python",
   "name": "python3"
  },
  "language_info": {
   "codemirror_mode": {
    "name": "ipython",
    "version": 2
   },
   "file_extension": ".py",
   "mimetype": "text/x-python",
   "name": "python",
   "nbconvert_exporter": "python",
   "pygments_lexer": "ipython2",
   "version": "2.7.6"
  }
 },
 "nbformat": 4,
 "nbformat_minor": 5
}
